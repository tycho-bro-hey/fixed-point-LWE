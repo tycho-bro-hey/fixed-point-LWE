{
  "nbformat": 4,
  "nbformat_minor": 0,
  "metadata": {
    "colab": {
      "provenance": [],
      "authorship_tag": "ABX9TyPK/eqJkzZdOL/0koCWdaHS",
      "include_colab_link": true
    },
    "kernelspec": {
      "name": "python3",
      "display_name": "Python 3"
    },
    "language_info": {
      "name": "python"
    }
  },
  "cells": [
    {
      "cell_type": "markdown",
      "metadata": {
        "id": "view-in-github",
        "colab_type": "text"
      },
      "source": [
        "<a href=\"https://colab.research.google.com/github/tycho-bro-hey/fixed-point-LWE/blob/main/_TFHE_Walktrhough.ipynb\" target=\"_parent\"><img src=\"https://colab.research.google.com/assets/colab-badge.svg\" alt=\"Open In Colab\"/></a>"
      ]
    },
    {
      "cell_type": "markdown",
      "source": [
        "# INTRODUCTION\n",
        "The purpose of this repository (and notebook) is for me to understand the theory and implementation of the fully homomorphic encryption over the torus (TFHE) scheme.  \n",
        "\n",
        "We will be following section-by-section the [Fully Homomorphic Encryption from Scratch](https://www.daniellowengrub.com/blog/2024/01/03/fully-homomorphic-encryption#the-gsw-encryption-scheme)."
      ],
      "metadata": {
        "id": "fVTbgi1_iEdp"
      }
    },
    {
      "cell_type": "markdown",
      "source": [
        "# LEARNING WITH ERRORS\n",
        "I am already quite familiar with the learning with errors (LWE) problem.  It as often attributed to Regev and [his 2009 paper](https://cims.nyu.edu/~regev/papers/qcrypto.pdf). From my dissertation, I have written the following:\n",
        "\n",
        "The learning with errors (LWE) problem, including its decisional version, are foundational problems in lattice-based cryptography.  The LWE problem, which was introduced by Regev, involves solving for a secret vector given a set of noisy linear equations, which is considered the search version. The search version states that due to the added noise (error), it is computationally hard to solve for an exact solution of the secret vector.  For the decisional variant, the goal is to distinguish between two distributions: one consisting of noisy linear equations generated from a secret vector and another consisting of random, uniformly distributed values. The formal definitions for these problems are:\n",
        "\n",
        "\n",
        "\n",
        "*   Let $A \\in \\mathbb{Z}_q^{m\\times n}$ be a randomly sampled matrix with uniform entries from $\\mathbb{Z}_q$, $s \\in \\mathbb{Z}_q^n$ be a secrete vector chosen uniformly at random, and $e \\in \\mathbb{Z}_q^n$ be an error vector with entries drawn independently from the discrete error distribution $\\chi$.  The search LWE problem is to recover the secret vector $s$ give the following system of equations: $b = As + e$ where $A$ is a public matrix and $b \\in \\mathbb{Z}_q^m$ is the noisy linear encoding of $s$.  As such, the problems states: Given polynomially many such samples $(A,b)$, the goal is to compute the secret vector $s$.\n",
        "*   The decisional variant of the LWE problem defines an LWE distribution as a sequence of pairs $(A,b)$ where each pair is generated in the same fashion as the search variant. The decisional variant includes a uniform distribution that consists of a sequence of pairs $(\\hat{A},\\hat{b})$ where $\\hat{a} \\in \\mathbb{Z}_q^n$ is chosen uniformly at random and $\\hat{b} \\in \\mathbb{Z}_q$ is chosen uniformly at random, independent of $\\hat{A}$. The decisional problem asks to distinguish between these two distributions with non-negligible probability.\n",
        "\n",
        "As Regev demonstrated, solving the LWE problem is as hard as the worst-case lattice problems.  This established a strong connection between the average-case complexity of the LWE problem and the worst-case complexity of the SVP, implying that the underlying lattice problems are hard even for quantum computers.  Building on this foundation, our research leverages the hardness of the LWE assumption to build a public-key encryption (PKE) scheme that is secure against both classical and quantum adversaries, while also incorporating homomorphic properties to allow computations on encrypted data."
      ],
      "metadata": {
        "id": "gyApPztwVRZh"
      }
    },
    {
      "cell_type": "code",
      "source": [
        "import numpy as np\n",
        "from typing import Optional\n",
        "\n",
        "# 32-bit signed integer bounds\n",
        "INT32_MIN = np.iinfo(np.int32).min\n",
        "INT32_MAX = np.iinfo(np.int32).max\n",
        "\n",
        "def uniform_sample_int32(size: int) -> np.ndarray:\n",
        "    return np.random.randint(\n",
        "        low=INT32_MIN,\n",
        "        high=INT32_MAX + 1,\n",
        "        size=size,\n",
        "        dtype=np.int32,\n",
        "    )\n",
        "\n",
        "def gaussian_sample_int32(std: float, size: Optional[int]) -> np.int32:\n",
        "    return np.int32(INT32_MAX * np.random.normal(loc=0.0, scale=std, size=size))\n"
      ],
      "metadata": {
        "id": "fALDZ1QcduzX"
      },
      "execution_count": null,
      "outputs": []
    },
    {
      "cell_type": "code",
      "source": [
        "import numpy as np\n",
        "import dataclasses\n",
        "\n",
        "@dataclasses.dataclass\n",
        "class LweConfig:\n",
        "    dimension: int\n",
        "    noise_std: float\n",
        "\n",
        "@dataclasses.dataclass\n",
        "class LwePlaintext:\n",
        "    message: np.int32\n",
        "\n",
        "@dataclasses.dataclass\n",
        "class LweCiphertext:\n",
        "    config: LweConfig\n",
        "    a: np.ndarray\n",
        "    b: np.int32\n",
        "\n",
        "@dataclasses.dataclass\n",
        "class LweEncryptionKey:\n",
        "    config: LweConfig\n",
        "    key: np.ndarray\n",
        "\n",
        "def generate_lwe_key(config: LweConfig) -> LweEncryptionKey:\n",
        "    return LweEncryptionKey(\n",
        "        config=config,\n",
        "        key=np.random.randint(\n",
        "            low=0, high=2, size=(config.dimension,), dtype=np.int32\n",
        "        ),\n",
        "    )\n",
        "\n",
        "def lwe_encrypt(\n",
        "    plaintext: LwePlaintext, key: LweEncryptionKey\n",
        ") -> LweCiphertext:\n",
        "    a = uniform_sample_int32(size=key.config.dimension)\n",
        "    noise = gaussian_sample_int32(std=key.config.noise_std, size=None)\n",
        "\n",
        "    b = np.add(np.dot(a, key.key), plaintext.message, dtype=np.int32)\n",
        "    b = np.add(b, noise, dtype=np.int32)\n",
        "\n",
        "    return LweCiphertext(config=key.config, a=a, b=b)\n",
        "\n",
        "def lwe_decrypt(\n",
        "    ciphertext: LweCiphertext, key: LweEncryptionKey\n",
        ") -> LwePlaintext:\n",
        "    return LwePlaintext(\n",
        "        np.subtract(ciphertext.b, np.dot(ciphertext.a, key.key), dtype=np.int32)\n",
        "    )\n"
      ],
      "metadata": {
        "id": "L3H_FKLqWVa6"
      },
      "execution_count": null,
      "outputs": []
    },
    {
      "cell_type": "code",
      "source": [
        "# Configuration\n",
        "LWE_CONFIG = LweConfig(dimension=1024, noise_std=2 ** (-24))\n",
        "\n",
        "# Generate key\n",
        "key = generate_lwe_key(LWE_CONFIG)\n",
        "\n",
        "# Create a test message (2^29 to match future encoding)\n",
        "plaintext = LwePlaintext(message=np.int32(2**29))\n",
        "\n",
        "# Encrypt\n",
        "ciphertext = lwe_encrypt(plaintext, key)\n",
        "\n",
        "# Decrypt\n",
        "decrypted = lwe_decrypt(ciphertext, key)\n",
        "\n",
        "# Display results\n",
        "print(\"Original message:\", plaintext.message)\n",
        "print(\"Decrypted message:\", decrypted.message)\n",
        "print(\"Error (should be small):\", decrypted.message - plaintext.message)\n"
      ],
      "metadata": {
        "colab": {
          "base_uri": "https://localhost:8080/"
        },
        "id": "tkL6UiNMioZZ",
        "outputId": "c256d29b-c23e-4f20-bdcf-a1ed1e7c5df0"
      },
      "execution_count": null,
      "outputs": [
        {
          "output_type": "stream",
          "name": "stdout",
          "text": [
            "Original message: 536870912\n",
            "Decrypted message: 536870889\n",
            "Error (should be small): -23\n"
          ]
        }
      ]
    },
    {
      "cell_type": "code",
      "source": [
        "# Generate an LWE key\n",
        "key = generate_lwe_key(LWE_CONFIG)\n",
        "\n",
        "# This is the plaintext that we will encrypt\n",
        "plaintext = LwePlaintext(np.int32(2**29))\n",
        "\n",
        "# Encrypt the plaintext 1000 times and store the error of each ciphertext.\n",
        "errors = []\n",
        "for _ in range(1000):\n",
        "    ciphertext = lwe_encrypt(plaintext, key)\n",
        "    decrypted = lwe_decrypt(ciphertext, key)\n",
        "    error = decrypted.message - plaintext.message\n",
        "    errors.append(error)\n",
        "\n",
        "# Show basic stats\n",
        "print(f\"Mean error: {np.mean(errors)}\")\n",
        "print(f\"Max error: {np.max(errors)}\")\n",
        "print(f\"Min error: {np.min(errors)}\")\n",
        "\n",
        "import matplotlib.pyplot as plt\n",
        "\n",
        "plt.hist(errors, bins=50, edgecolor='black')\n",
        "plt.title(\"Histogram of LWE Decryption Errors\")\n",
        "plt.xlabel(\"Error Value\")\n",
        "plt.ylabel(\"Frequency\")\n",
        "plt.grid(True)\n",
        "plt.show()\n"
      ],
      "metadata": {
        "colab": {
          "base_uri": "https://localhost:8080/",
          "height": 524
        },
        "id": "i06u1Ttid24B",
        "outputId": "63743d7d-89ee-4e09-8759-198b3c1b6317"
      },
      "execution_count": null,
      "outputs": [
        {
          "output_type": "stream",
          "name": "stdout",
          "text": [
            "Mean error: -6.707\n",
            "Max error: 409\n",
            "Min error: -356\n"
          ]
        },
        {
          "output_type": "display_data",
          "data": {
            "text/plain": [
              "<Figure size 640x480 with 1 Axes>"
            ],
            "image/png": "[encoded data removed]"
          },
          "metadata": {}
        }
      ]
    },
    {
      "cell_type": "markdown",
      "source": [
        "# Message Encoding\n",
        "\n",
        "In the Python tutorial, the author mentions that the deciphering algorithm produces the original message plus some small error that was injected due to the LWE framework.  \n",
        "\n",
        "I am going to deviate away from the tutorial to dive into some of what I have written in my dissertation.  My notation may deviate a bit from the tutorial, but the theory remains the same.\n",
        "\n",
        "$LWE{(pk,m)} := \\left(\\mathcal{c}_1,\\mathcal{c}_2\\right) = \\left(rA, r\\nu + \\left\\lfloor\\frac{q}{t}\\right\\rfloor m\\right)$"
      ],
      "metadata": {
        "id": "haXMmJonl5iT"
      }
    },
    {
      "cell_type": "code",
      "source": [
        "import numpy as np\n",
        "import matplotlib.pyplot as plt\n",
        "\n",
        "# Parameters\n",
        "message_space_size = 2**3             # Number of message slots\n",
        "Delta_exp = 32 - 3                     # q = 2^32, t = 2^3, q/t = 2^29\n",
        "Delta = 2**Delta_exp\n",
        "half = message_space_size // 2     # For symmetric range like [-4, ..., 3]\n",
        "\n",
        "# Message points: [-half, ..., half - 1]\n",
        "points = np.arange(-half, half)\n",
        "labels = [rf\"${i} \\cdot 2^{{{Delta_exp}}}$\" for i in points]\n",
        "angles = np.linspace(-np.pi, np.pi, len(points), endpoint=False)\n",
        "\n",
        "\n",
        "fig, ax = plt.subplots(figsize=(5, 5))\n",
        "ax.set_aspect('equal')\n",
        "circle = plt.Circle((0, 0), 1.0, color='mediumpurple', fill=False, linewidth=2)\n",
        "ax.add_artist(circle)\n",
        "\n",
        "# plot each point and its label\n",
        "for angle, label in zip(angles, labels):\n",
        "    x = np.cos(angle)\n",
        "    y = np.sin(angle)\n",
        "    ax.plot(x, y, 'bo')  # Blue dot\n",
        "    ax.text(1.15 * x, 1.15 * y, label, ha='center', va='center', fontsize=11)\n",
        "\n",
        "ax.set_xlim(-1.5, 1.5)\n",
        "ax.set_ylim(-1.5, 1.5)\n",
        "ax.axis('off')\n",
        "\n",
        "\n",
        "ax.text(0, 0, r\"$Z_q$\", ha='center', va='center', fontsize=18)\n",
        "plt.title(r\"Message Slots in $Z_q$ ($q = 2^{32}$)\" + \"\\n\" + \"Message Space: $Z_8$ = {–4, –3, …, 3}\", fontsize=13)\n",
        "plt.show()\n"
      ],
      "metadata": {
        "colab": {
          "base_uri": "https://localhost:8080/",
          "height": 475
        },
        "id": "O35KA6HYmxxm",
        "outputId": "3e5f0a42-d0a5-4f8f-9f9d-2697eca06b4d"
      },
      "execution_count": null,
      "outputs": [
        {
          "output_type": "display_data",
          "data": {
            "text/plain": [
              "<Figure size 500x500 with 1 Axes>"
            ],
            "image/png": "[encoded data removed]"
          },
          "metadata": {}
        }
      ]
    },
    {
      "cell_type": "markdown",
      "source": [
        "Thus, for my research, we lift (or encode) our real-valued signals into a fixed-point message space."
      ],
      "metadata": {
        "id": "1Royrp438wkY"
      }
    },
    {
      "cell_type": "code",
      "source": [
        "def encode(i: int) -> np.int32:\n",
        "    \"\"\"Encode an integer in [-4, 4) as an int32\"\"\"\n",
        "    return np.multiply(i, 1 << 29, dtype=np.int32)\n",
        "\n",
        "def decode(i: np.int32) -> int:\n",
        "    \"\"\"Decode an int32 to an integer in the range [-4, 4) mod 8\"\"\"\n",
        "    d = int(np.rint(i / (1 << 29)))\n",
        "    return ((d + 4) % 8) - 4\n",
        "\n",
        "### FIXED-POINT DISSERTATION ENCODING ###\n",
        "\n",
        "def encode_real_to_fixed(m: float, frac_bits: int) -> int:\n",
        "    return int(np.round(m * (1 << frac_bits)))\n",
        "\n",
        "def decode_fixed_to_real(m_fixed: int, frac_bits: int) -> float:\n",
        "    return m_fixed / (1 << frac_bits)\n",
        "\n",
        "#########################################\n",
        "\n",
        "def lwe_encode(i: int) -> LwePlaintext:\n",
        "    return LwePlaintext(encode(i))\n",
        "\n",
        "def lwe_decode(plaintext: LwePlaintext) -> int:\n",
        "    return decode(plaintext.message)"
      ],
      "metadata": {
        "id": "oqJrf09Onwf6"
      },
      "execution_count": null,
      "outputs": []
    },
    {
      "cell_type": "code",
      "source": [
        "# Generate LWE key\n",
        "key = generate_lwe_key(LWE_CONFIG)\n",
        "\n",
        "# Integer message in Z_8\n",
        "original = 2\n",
        "\n",
        "# Encode integer 2 → 2 * \\Delta = 2 * 2^29\n",
        "plaintext = lwe_encode(original)\n",
        "\n",
        "# LWE Encrypt\n",
        "ciphertext = lwe_encrypt(plaintext, key)\n",
        "\n",
        "# Decrypt (returns noisy version of 2 * \\Delta)\n",
        "decrypted = lwe_decrypt(ciphertext, key)\n",
        "\n",
        "# Decode (round and map to Z_8)\n",
        "decoded = lwe_decode(decrypted)\n",
        "\n",
        "# Print all internal steps\n",
        "print(f\"Original integer message (Z_8):         {original}\")\n",
        "print(f\"Encoded plaintext message (int32):      {plaintext.message}\")\n",
        "print(f\"Ciphertext component 'a' (vector):      {ciphertext.a[:5]}...\")\n",
        "print(f\"Ciphertext component 'b' (int32):       {ciphertext.b}\")\n",
        "print(f\"Decrypted (noisy fixed int):            {decrypted.message}\")\n",
        "print(f\"Decoded message after decryption:       {decoded}\")\n",
        "\n",
        "# Verify correctness\n",
        "assert decoded == original\n"
      ],
      "metadata": {
        "colab": {
          "base_uri": "https://localhost:8080/"
        },
        "id": "XYWfmEQi9iE5",
        "outputId": "0cbd293e-d8fd-4302-e35f-93876638edb4"
      },
      "execution_count": null,
      "outputs": [
        {
          "output_type": "stream",
          "name": "stdout",
          "text": [
            "Original integer message (Z_8):         2\n",
            "Encoded plaintext message (int32):      1073741824\n",
            "Ciphertext component 'a' (vector):      [-994504565 2040213410 -766869656  364008309  302292418]...\n",
            "Ciphertext component 'b' (int32):       -1139442351\n",
            "Decrypted (noisy fixed int):            1073741772\n",
            "Decoded message after decryption:       2\n"
          ]
        }
      ]
    },
    {
      "cell_type": "code",
      "source": [
        "# Fixed-Point Encoding/Decoding Approach\n",
        "FRAC_BITS = 16  # 16-bit fractional fixed-point\n",
        "\n",
        "# Real-valued message\n",
        "real_value = 3.14159\n",
        "\n",
        "# Fixed-point encode the real value\n",
        "fixed_encoded = encode_real_to_fixed(real_value, FRAC_BITS)\n",
        "\n",
        "# Wrap into LWE plaintext using lwe_encode()\n",
        "plaintext = LwePlaintext(np.int32(fixed_encoded))\n",
        "\n",
        "# SEncrypt the encoded integer\n",
        "ciphertext = lwe_encrypt(plaintext, key)\n",
        "\n",
        "# Decrypt the ciphertext (returns noisy fixed-point integer)\n",
        "decrypted = lwe_decrypt(ciphertext, key)\n",
        "\n",
        "# Decode fixed-point back to real value\n",
        "real_decoded = decode_fixed_to_real(decrypted.message, FRAC_BITS)\n",
        "\n",
        "# Display result\n",
        "print(f\"Original real value:    {real_value}\")\n",
        "print(f\"Fixed-point encoded:    {fixed_encoded}\")\n",
        "print(f\"Decrypted fixed-point:  {decrypted.message}\")\n",
        "print(f\"Decoded real value:     {real_decoded}\")\n"
      ],
      "metadata": {
        "colab": {
          "base_uri": "https://localhost:8080/"
        },
        "id": "i7D-Nx8MI1T0",
        "outputId": "ede2b153-41be-498f-ab7b-a618bf778d8f"
      },
      "execution_count": null,
      "outputs": [
        {
          "output_type": "stream",
          "name": "stdout",
          "text": [
            "Original real value:    3.14159\n",
            "Fixed-point encoded:    205887\n",
            "Decrypted fixed-point:  205783\n",
            "Decoded real value:     3.1399993896484375\n"
          ]
        }
      ]
    }
  ]
}